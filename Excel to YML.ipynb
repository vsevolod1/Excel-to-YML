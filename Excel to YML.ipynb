{
 "cells": [
  {
   "cell_type": "code",
   "execution_count": 196,
   "metadata": {
    "collapsed": true
   },
   "outputs": [],
   "source": [
    "import pandas as pd\n",
    "import xml.etree.cElementTree as ET\n",
    "from datetime import datetime\n",
    "from pprint import pprint"
   ]
  },
  {
   "cell_type": "code",
   "execution_count": 197,
   "metadata": {
    "collapsed": false
   },
   "outputs": [],
   "source": [
    "file = pd.read_excel('product_export (24).xlsx')"
   ]
  },
  {
   "cell_type": "code",
   "execution_count": 167,
   "metadata": {
    "collapsed": false
   },
   "outputs": [],
   "source": [
    "# file=file.fillna(0)\n",
    "# file"
   ]
  },
  {
   "cell_type": "code",
   "execution_count": 202,
   "metadata": {
    "collapsed": false
   },
   "outputs": [],
   "source": [
    "categories = pd.read_excel('categories.xlsx', names=['category', 'cat_id'])\n",
    "\n",
    "categories_dict=(categories.set_index('category').to_dict())['cat_id']\n",
    "\n",
    "def cat2id(cat_name):\n",
    "   return categories_dict[cat_name]"
   ]
  },
  {
   "cell_type": "code",
   "execution_count": 233,
   "metadata": {
    "collapsed": false
   },
   "outputs": [],
   "source": [
    "img_links = []\n",
    "def sub_lmnt(name, column, i=i):\n",
    "    ET.SubElement(offer, name).text = str(file.ix[i][column])\n",
    "\n",
    "now = datetime.strftime(datetime.now(), \"%Y-%m-%d %H:%M\")\n",
    "yml = ET.Element('yml_catalog', date = str(now))\n",
    "shop = ET.SubElement(yml, \"shop\")\n",
    "\n",
    "ET.SubElement(shop, 'name').text = 'Homefash-Trading'\n",
    "ET.SubElement(shop, 'company').text = 'ООО МОЙ ДОМ'\n",
    "ET.SubElement(shop, 'url').text = 'http://homefash-trading.com/'\n",
    "\n",
    "ET.SubElement(ET.SubElement(shop, 'currencies'), 'currency', id='RUR', rate='1')\n",
    "\n",
    "categories_xml = ET.SubElement(shop, 'categories')\n",
    "for cat in categories_dict:\n",
    "    if len(str(categories_dict[cat]))==4:\n",
    "        ET.SubElement(categories_xml, 'category', id = str(categories_dict[cat]), parentId=str(categories_dict[cat])[:2]).text = cat\n",
    "    else:\n",
    "        ET.SubElement(categories_xml, 'category', id = str(categories_dict[cat])).text = cat\n",
    "\n",
    "offers = ET.SubElement(shop, \"offers\")\n",
    "i=0\n",
    "while (i<len(file.index)):\n",
    "    offer = ET.SubElement(offers, \"offer\", id=file.ix[i]['Homefash SKU'], available='true')\n",
    "    sub_lmnt('price', 'RRP')\n",
    "    ET.SubElement(offer, 'currencyId').text = 'RUR'\n",
    "    sub_lmnt('name', 'Product Name')\n",
    "    sub_lmnt('description', 'Full Product Description')\n",
    "    sub_lmnt('vendor', 'Brand')\n",
    "    sub_lmnt('vendorCode', 'Product Number')\n",
    "#     picture\n",
    "    link = r'http://homefash-trading.com/sites/default/files/product_img/' + str(file.ix[i]['Homefash SKU']) + '.jpg'\n",
    "    ET.SubElement(offer, 'picture').text = link\n",
    "    img_links.append(link)\n",
    "#     нужно добавить категорию А, если В пустая\n",
    "    ET.SubElement(offer, 'categoryId').text = str(cat2id(file.ix[i]['Category B']))\n",
    "#     sub_lmnt('dimensions', '')\n",
    "    sub_lmnt('country_of_origin', 'Country of Origin')\n",
    "    sub_lmnt('stock', 'Warehouse Qty')\n",
    "    sub_lmnt('weight', 'Product Weight, kg')\n",
    "    \n",
    "    i += 1"
   ]
  },
  {
   "cell_type": "code",
   "execution_count": 226,
   "metadata": {
    "collapsed": true
   },
   "outputs": [],
   "source": [
    "tree = ET.ElementTree(yml)\n",
    "tree.write(\"filename1.xml\",encoding=\"UTF-8\",xml_declaration=True)"
   ]
  },
  {
   "cell_type": "code",
   "execution_count": 236,
   "metadata": {
    "collapsed": false
   },
   "outputs": [],
   "source": [
    "import urllib\n",
    "error_list = []\n",
    "for img in img_links:\n",
    "    try:\n",
    "        dwnld = urllib.request.urlopen(img).read()\n",
    "    except BaseException:\n",
    "        error_list.append(img)"
   ]
  },
  {
   "cell_type": "code",
   "execution_count": 237,
   "metadata": {
    "collapsed": false
   },
   "outputs": [
    {
     "name": "stdout",
     "output_type": "stream",
     "text": [
      "['http://homefash-trading.com/sites/default/files/product_img/ALMBMM-02.jpg',\n",
      " 'http://homefash-trading.com/sites/default/files/product_img/ALMBMM-48.jpg',\n",
      " 'http://homefash-trading.com/sites/default/files/product_img/ANDBMM-43.jpg',\n",
      " 'http://homefash-trading.com/sites/default/files/product_img/BODBMM-10.jpg',\n",
      " 'http://homefash-trading.com/sites/default/files/product_img/CESBMM-10.jpg',\n",
      " 'http://homefash-trading.com/sites/default/files/product_img/CESBMM-14.jpg',\n",
      " 'http://homefash-trading.com/sites/default/files/product_img/CESBMM-91.jpg',\n",
      " 'http://homefash-trading.com/sites/default/files/product_img/CESBMM-63.jpg',\n",
      " 'http://homefash-trading.com/sites/default/files/product_img/NEVBMM-69.jpg',\n",
      " 'http://homefash-trading.com/sites/default/files/product_img/ZAMBMM-95.jpg',\n",
      " 'http://homefash-trading.com/sites/default/files/product_img/JOLTWG-16.jpg',\n",
      " 'http://homefash-trading.com/sites/default/files/product_img/JOLTWG-09.jpg',\n",
      " 'http://homefash-trading.com/sites/default/files/product_img/JOLTWS-16.jpg',\n",
      " 'http://homefash-trading.com/sites/default/files/product_img/JOLTWS-09.jpg',\n",
      " 'http://homefash-trading.com/sites/default/files/product_img/JOLTWW-16.jpg',\n",
      " 'http://homefash-trading.com/sites/default/files/product_img/JOLTWW-09.jpg',\n",
      " 'http://homefash-trading.com/sites/default/files/product_img/HAMBHR-98.jpg',\n",
      " 'http://homefash-trading.com/sites/default/files/product_img/ODASDI-11.jpg',\n",
      " 'http://homefash-trading.com/sites/default/files/product_img/ODADIS-11.jpg',\n",
      " 'http://homefash-trading.com/sites/default/files/product_img/OSCRXH-43.jpg',\n",
      " 'http://homefash-trading.com/sites/default/files/product_img/PHATUM-10.jpg',\n",
      " 'http://homefash-trading.com/sites/default/files/product_img/PHASDI-10.jpg',\n",
      " 'http://homefash-trading.com/sites/default/files/product_img/PHADIS-10.jpg',\n",
      " 'http://homefash-trading.com/sites/default/files/product_img/PHABHR-10.jpg',\n",
      " 'http://homefash-trading.com/sites/default/files/product_img/TACTUM-43.jpg',\n",
      " 'http://homefash-trading.com/sites/default/files/product_img/TACSDI-43.jpg',\n",
      " 'http://homefash-trading.com/sites/default/files/product_img/TACDIS-43.jpg',\n",
      " 'http://homefash-trading.com/sites/default/files/product_img/TACTRA-43.jpg',\n",
      " 'http://homefash-trading.com/sites/default/files/product_img/TACBHR-43.jpg',\n",
      " 'http://homefash-trading.com/sites/default/files/product_img/VASTUM-95.jpg',\n",
      " 'http://homefash-trading.com/sites/default/files/product_img/VASDIS-95.jpg',\n",
      " 'http://homefash-trading.com/sites/default/files/product_img/VASCOS-95.jpg',\n",
      " 'http://homefash-trading.com/sites/default/files/product_img/VASBHR-95.jpg',\n",
      " 'http://homefash-trading.com/sites/default/files/product_img/MYRSSO-98.jpg',\n",
      " 'http://homefash-trading.com/sites/default/files/product_img/FELBPI-98.jpg',\n",
      " 'http://homefash-trading.com/sites/default/files/product_img/ODILAL-15.jpg',\n",
      " 'http://homefash-trading.com/sites/default/files/product_img/BORSBM-10.jpg',\n",
      " 'http://homefash-trading.com/sites/default/files/product_img/EVOSBL-05.jpg',\n",
      " 'http://homefash-trading.com/sites/default/files/product_img/GLODIS-43.jpg',\n",
      " 'http://homefash-trading.com/sites/default/files/product_img/BELAPR-48.jpg',\n",
      " 'http://homefash-trading.com/sites/default/files/product_img/BELGLO-48.jpg',\n",
      " 'http://homefash-trading.com/sites/default/files/product_img/BELHOL-48.jpg',\n",
      " 'http://homefash-trading.com/sites/default/files/product_img/BELTEA-48.jpg',\n",
      " 'http://homefash-trading.com/sites/default/files/product_img/BELAPR-68.jpg',\n",
      " 'http://homefash-trading.com/sites/default/files/product_img/BELGLO-68.jpg',\n",
      " 'http://homefash-trading.com/sites/default/files/product_img/BELHOL-68.jpg',\n",
      " 'http://homefash-trading.com/sites/default/files/product_img/BELTEA-68.jpg',\n",
      " 'http://homefash-trading.com/sites/default/files/product_img/BELGLO-90.jpg',\n",
      " 'http://homefash-trading.com/sites/default/files/product_img/BELHOL-90.jpg',\n",
      " 'http://homefash-trading.com/sites/default/files/product_img/BELTEA-90.jpg',\n",
      " 'http://homefash-trading.com/sites/default/files/product_img/CUCAPR-10.jpg',\n",
      " 'http://homefash-trading.com/sites/default/files/product_img/CUCGLO-10.jpg',\n",
      " 'http://homefash-trading.com/sites/default/files/product_img/CUCHOL-10.jpg',\n",
      " 'http://homefash-trading.com/sites/default/files/product_img/TORTEA-95.jpg',\n",
      " 'http://homefash-trading.com/sites/default/files/product_img/ACCBMB-11.jpg',\n",
      " 'http://homefash-trading.com/sites/default/files/product_img/NEPBMB-02.jpg',\n",
      " 'http://homefash-trading.com/sites/default/files/product_img/ALLBGS-72.jpg']\n"
     ]
    }
   ],
   "source": [
    "pprint(error_list)"
   ]
  }
 ],
 "metadata": {
  "kernelspec": {
   "display_name": "Python 3",
   "language": "python",
   "name": "python3"
  },
  "language_info": {
   "codemirror_mode": {
    "name": "ipython",
    "version": 3
   },
   "file_extension": ".py",
   "mimetype": "text/x-python",
   "name": "python",
   "nbconvert_exporter": "python",
   "pygments_lexer": "ipython3",
   "version": "3.6.0"
  }
 },
 "nbformat": 4,
 "nbformat_minor": 2
}
