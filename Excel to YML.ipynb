{
 "cells": [
  {
   "cell_type": "code",
   "execution_count": 1,
   "metadata": {
    "collapsed": false
   },
   "outputs": [],
   "source": [
    "import pandas as pd\n",
    "import xml.etree.cElementTree as ET\n",
    "from datetime import datetime\n",
    "import urllib\n",
    "from pprint import pprint"
   ]
  },
  {
   "cell_type": "code",
   "execution_count": 2,
   "metadata": {
    "collapsed": false
   },
   "outputs": [],
   "source": [
    "categories = pd.read_excel('categories.xlsx', names=['category', 'cat_id'])\n",
    "\n",
    "categories_dict=(categories.set_index('category').to_dict())['cat_id']\n",
    "\n",
    "def cat2id(cat_name):\n",
    "   return categories_dict[cat_name]"
   ]
  },
  {
   "cell_type": "code",
   "execution_count": 3,
   "metadata": {
    "collapsed": true
   },
   "outputs": [],
   "source": [
    "file = pd.read_excel('подборка для IMR.xlsx')"
   ]
  },
  {
   "cell_type": "code",
   "execution_count": 4,
   "metadata": {
    "collapsed": false
   },
   "outputs": [],
   "source": [
    "img_links = []\n",
    "\n",
    "now = datetime.strftime(datetime.now(), \"%Y-%m-%d %H:%M\")\n",
    "yml = ET.Element('yml_catalog', date = str(now))\n",
    "shop = ET.SubElement(yml, \"shop\")\n",
    "\n",
    "ET.SubElement(shop, 'name').text = 'Homefash-Trading'\n",
    "ET.SubElement(shop, 'company').text = 'ООО МОЙ ДОМ'\n",
    "ET.SubElement(shop, 'url').text = 'http://homefash-trading.com/'\n",
    "\n",
    "ET.SubElement(ET.SubElement(shop, 'currencies'), 'currency', id='RUR', rate='1')\n",
    "\n",
    "categories_xml = ET.SubElement(shop, 'categories')\n",
    "for cat in categories_dict:\n",
    "    if len(str(categories_dict[cat]))==4:\n",
    "        ET.SubElement(categories_xml, 'category', id = str(categories_dict[cat]), parentId=str(categories_dict[cat])[:2]).text = cat\n",
    "    else:\n",
    "        ET.SubElement(categories_xml, 'category', id = str(categories_dict[cat])).text = cat"
   ]
  },
  {
   "cell_type": "code",
   "execution_count": 5,
   "metadata": {
    "collapsed": false,
    "scrolled": true
   },
   "outputs": [],
   "source": [
    "offers = ET.SubElement(shop, \"offers\")\n",
    "i=0\n",
    "\n",
    "def add_offers(file=file, i=i):\n",
    "    \n",
    "    def sub_lmnt(name, column, i=i):\n",
    "        try:\n",
    "            ET.SubElement(offer, name).text = str(file.ix[i][column])\n",
    "        except KeyError:\n",
    "            pass\n",
    "        \n",
    "    while (i<len(file.index)):\n",
    "        if int(file.ix[i]['Warehouse Qty']) != 0:\n",
    "        #     offer = ET.SubElement(offers, \"offer\")\n",
    "            offer = ET.SubElement(offers, \"offer\", id=str(file.ix[i]['Homefash SKU']), available='true')\n",
    "            sub_lmnt('price', 'RRP', i)\n",
    "            ET.SubElement(offer, 'currencyId').text = 'RUR'\n",
    "            sub_lmnt('name', 'Product Name', i)\n",
    "        #     sub_lmnt('description', 'Full Product Description', i)\n",
    "    #         sub_lmnt('description', 'Full Product Description', i)\n",
    "\n",
    "    #         print(file.ix[i]['Full Product Description'])\n",
    "\n",
    "\n",
    "\n",
    "            if str(file.ix[i]['Full Product Description']) != 'nan':\n",
    "                sub_lmnt('description', 'Full Product Description', i)\n",
    "            elif str(file.ix[i]['Material']) != 'nan':\n",
    "                sub_lmnt('description', 'Material', i)\n",
    "            elif str(file.ix[i]['Description']) != 'nan':\n",
    "                sub_lmnt('description', 'Description', i)\n",
    "\n",
    "            sub_lmnt('vendor', 'Brand', i)\n",
    "            sub_lmnt('vendorCode', 'Product Number', i)\n",
    "            sub_lmnt('dimensions', 'Product Dimensions', i)\n",
    "        #     picture\n",
    "            link = r'http://u0256746.isp.regruhosting.ru/images/'+ str(file.ix[i]['Brand']) +'/' + str(file.ix[i]['Photoname']) + '.jpg'\n",
    "            ET.SubElement(offer, 'picture').text = link\n",
    "            img_links.append(link)\n",
    "            try:\n",
    "                ET.SubElement(offer, 'categoryId').text = str(cat2id(file.ix[i]['Category B']))\n",
    "            except KeyError:\n",
    "                ET.SubElement(offer, 'categoryId').text = str(cat2id(file.ix[i]['Category A']))     \n",
    "        #     sub_lmnt('dimensions', '')\n",
    "            sub_lmnt('country_of_origin', 'Country of Origin', i)\n",
    "            sub_lmnt('stock', 'Warehouse Qty', i)\n",
    "            sub_lmnt('weight', 'Product Weight, kg', i)\n",
    "\n",
    "        i += 1"
   ]
  },
  {
   "cell_type": "code",
   "execution_count": 6,
   "metadata": {
    "collapsed": false,
    "scrolled": true
   },
   "outputs": [],
   "source": [
    "add_offers()"
   ]
  },
  {
   "cell_type": "code",
   "execution_count": 7,
   "metadata": {
    "collapsed": false
   },
   "outputs": [],
   "source": [
    "tree = ET.ElementTree(yml)\n",
    "tree.write(\"IMR.xml\", encoding=\"UTF-8\", xml_declaration=True)"
   ]
  },
  {
   "cell_type": "code",
   "execution_count": 8,
   "metadata": {
    "collapsed": false
   },
   "outputs": [],
   "source": [
    "error_list = []\n",
    "for img in img_links:\n",
    "    try:\n",
    "        dwnld = urllib.request.urlopen(img).read()\n",
    "    except BaseException:\n",
    "        error_list.append(img)"
   ]
  },
  {
   "cell_type": "code",
   "execution_count": 9,
   "metadata": {
    "collapsed": false,
    "scrolled": false
   },
   "outputs": [
    {
     "name": "stdout",
     "output_type": "stream",
     "text": [
      "http://u0256746.isp.regruhosting.ru/images/Broste/14533030.jpg\n",
      "http://u0256746.isp.regruhosting.ru/images/Stelton/z00104.jpg\n",
      "http://u0256746.isp.regruhosting.ru/images/Stelton/z00055.jpg\n",
      "http://u0256746.isp.regruhosting.ru/images/Stelton/z00120.jpg\n",
      "http://u0256746.isp.regruhosting.ru/images/Stelton/z00121.jpg\n",
      "http://u0256746.isp.regruhosting.ru/images/Stelton/z00122.jpg\n"
     ]
    }
   ],
   "source": [
    "for error in error_list:\n",
    "    print(error)"
   ]
  },
  {
   "cell_type": "code",
   "execution_count": 12,
   "metadata": {
    "collapsed": false
   },
   "outputs": [],
   "source": [
    "import ftplib\n",
    "\n",
    "server = '37.140.192.162'\n",
    "username = 'u0193818'\n",
    "password = 'zQK!p9wW'\n",
    "ftp_connection = ftplib.FTP(server, username, password)\n",
    "\n",
    "remote_path = \"/www/homefash-trading.com/xml_export/\"\n",
    "ftp_connection.cwd(remote_path)\n",
    "\n",
    "fh = open(\"IMR.xml\", 'rb')\n",
    "ftp_connection.storbinary('STOR IMR.xml', fh)\n",
    "fh.close()"
   ]
  }
 ],
 "metadata": {
  "kernelspec": {
   "display_name": "Python 3",
   "language": "python",
   "name": "python3"
  },
  "language_info": {
   "codemirror_mode": {
    "name": "ipython",
    "version": 3
   },
   "file_extension": ".py",
   "mimetype": "text/x-python",
   "name": "python",
   "nbconvert_exporter": "python",
   "pygments_lexer": "ipython3",
   "version": "3.6.0"
  }
 },
 "nbformat": 4,
 "nbformat_minor": 2
}
